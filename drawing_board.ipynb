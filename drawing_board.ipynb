{
 "cells": [
  {
   "cell_type": "code",
   "execution_count": 1,
   "metadata": {
    "collapsed": true
   },
   "outputs": [],
   "source": [
    "from __future__ import print_function\n",
    "\n",
    "import pandas as pd"
   ]
  },
  {
   "cell_type": "code",
   "execution_count": 37,
   "metadata": {
    "collapsed": true
   },
   "outputs": [],
   "source": [
    "survey_name = \"demograpic_survey\""
   ]
  },
  {
   "cell_type": "code",
   "execution_count": 2,
   "metadata": {
    "collapsed": true
   },
   "outputs": [],
   "source": [
    "data = pd.read_csv(\"DemographicSurvey.csv\")"
   ]
  },
  {
   "cell_type": "code",
   "execution_count": 4,
   "metadata": {
    "collapsed": false,
    "scrolled": true
   },
   "outputs": [
    {
     "data": {
      "text/html": [
       "<div>\n",
       "<table border=\"1\" class=\"dataframe\">\n",
       "  <thead>\n",
       "    <tr style=\"text-align: right;\">\n",
       "      <th></th>\n",
       "      <th>Question</th>\n",
       "      <th>Type</th>\n",
       "      <th>Offered Answers (CSV)</th>\n",
       "    </tr>\n",
       "  </thead>\n",
       "  <tbody>\n",
       "    <tr>\n",
       "      <th>0</th>\n",
       "      <td>What is your age?</td>\n",
       "      <td>numerical</td>\n",
       "      <td>NaN</td>\n",
       "    </tr>\n",
       "    <tr>\n",
       "      <th>1</th>\n",
       "      <td>To what gender do you most identify with?</td>\n",
       "      <td>multiple choice</td>\n",
       "      <td>Male|Female|Other|Decline to state</td>\n",
       "    </tr>\n",
       "    <tr>\n",
       "      <th>2</th>\n",
       "      <td>How often do you play video games?</td>\n",
       "      <td>multiple choice</td>\n",
       "      <td>Not at all|At least a few times a month|At lea...</td>\n",
       "    </tr>\n",
       "    <tr>\n",
       "      <th>3</th>\n",
       "      <td>What is your level of experience/proficiency w...</td>\n",
       "      <td>multiple choice</td>\n",
       "      <td>None|Beginner (Example: I can use the internet...</td>\n",
       "    </tr>\n",
       "    <tr>\n",
       "      <th>4</th>\n",
       "      <td>Check all items that you use on a weekly basis:</td>\n",
       "      <td>multiple choice</td>\n",
       "      <td>NaN</td>\n",
       "    </tr>\n",
       "    <tr>\n",
       "      <th>5</th>\n",
       "      <td>What organization do you work for?</td>\n",
       "      <td>fill-in</td>\n",
       "      <td>NaN</td>\n",
       "    </tr>\n",
       "    <tr>\n",
       "      <th>6</th>\n",
       "      <td>What is your profession?</td>\n",
       "      <td>fill-in</td>\n",
       "      <td>NaN</td>\n",
       "    </tr>\n",
       "    <tr>\n",
       "      <th>7</th>\n",
       "      <td>How many years of experience do you have in yo...</td>\n",
       "      <td>numerical</td>\n",
       "      <td>NaN</td>\n",
       "    </tr>\n",
       "  </tbody>\n",
       "</table>\n",
       "</div>"
      ],
      "text/plain": [
       "                                            Question             Type  \\\n",
       "0                                  What is your age?        numerical   \n",
       "1          To what gender do you most identify with?  multiple choice   \n",
       "2                 How often do you play video games?  multiple choice   \n",
       "3  What is your level of experience/proficiency w...  multiple choice   \n",
       "4    Check all items that you use on a weekly basis:  multiple choice   \n",
       "5                 What organization do you work for?          fill-in   \n",
       "6                           What is your profession?          fill-in   \n",
       "7  How many years of experience do you have in yo...        numerical   \n",
       "\n",
       "                               Offered Answers (CSV)  \n",
       "0                                                NaN  \n",
       "1                 Male|Female|Other|Decline to state  \n",
       "2  Not at all|At least a few times a month|At lea...  \n",
       "3  None|Beginner (Example: I can use the internet...  \n",
       "4                                                NaN  \n",
       "5                                                NaN  \n",
       "6                                                NaN  \n",
       "7                                                NaN  "
      ]
     },
     "execution_count": 4,
     "metadata": {},
     "output_type": "execute_result"
    }
   ],
   "source": [
    "data"
   ]
  },
  {
   "cell_type": "code",
   "execution_count": 19,
   "metadata": {
    "collapsed": false
   },
   "outputs": [
    {
     "data": {
      "text/plain": [
       "(0                                    What is your age?\n",
       " 1            To what gender do you most identify with?\n",
       " 2                   How often do you play video games?\n",
       " 3    What is your level of experience/proficiency w...\n",
       " 4      Check all items that you use on a weekly basis:\n",
       " 5                   What organization do you work for?\n",
       " 6                             What is your profession?\n",
       " 7    How many years of experience do you have in yo...\n",
       " Name: Question, dtype: object, 0          numerical\n",
       " 1    multiple choice\n",
       " 2    multiple choice\n",
       " 3    multiple choice\n",
       " 4    multiple choice\n",
       " 5            fill-in\n",
       " 6            fill-in\n",
       " 7          numerical\n",
       " Name: Type, dtype: object, 0                                                  NaN\n",
       " 1                   Male|Female|Other|Decline to state\n",
       " 2    Not at all|At least a few times a month|At lea...\n",
       " 3    None|Beginner (Example: I can use the internet...\n",
       " 4                                                  NaN\n",
       " 5                                                  NaN\n",
       " 6                                                  NaN\n",
       " 7                                                  NaN\n",
       " Name: Offered Answers (CSV), dtype: object)"
      ]
     },
     "execution_count": 19,
     "metadata": {},
     "output_type": "execute_result"
    }
   ],
   "source": [
    "data['Question'], data['Type'], data['Offered Answers (CSV)']"
   ]
  },
  {
   "cell_type": "code",
   "execution_count": 83,
   "metadata": {
    "collapsed": false
   },
   "outputs": [
    {
     "ename": "SyntaxError",
     "evalue": "invalid syntax (<ipython-input-83-60df557eea2d>, line 16)",
     "traceback": [
      "\u001b[0;36m  File \u001b[0;32m\"<ipython-input-83-60df557eea2d>\"\u001b[0;36m, line \u001b[0;32m16\u001b[0m\n\u001b[0;31m    if index < len(data.index) - 1:\u001b[0m\n\u001b[0m                                  ^\u001b[0m\n\u001b[0;31mSyntaxError\u001b[0m\u001b[0;31m:\u001b[0m invalid syntax\n"
     ],
     "output_type": "error"
    }
   ],
   "source": [
    "question_query = \"INSERT INTO dbsurveys.question (id, type, question_text) values\"\n",
    "offered_answer_query = \"INSERT INTO dbsurveys.question (id, offered_answer_text) values\"\n",
    "\n",
    "answers = []\n",
    "\n",
    "for index, row in data.iterrows():\n",
    "    question_text = row[\"Question\"]\n",
    "    question_type = row[\"Type\"]\n",
    "    \n",
    "    if(not pd.isnull(row[\"Offered Answers (CSV)\"])):\n",
    "        answers.append(row[\"Offered Answers (CSV)\"].split(\"|\")\n",
    "        \n",
    "    question_query += \"(null, '{}', '{}')\".format(question_type, question_text)\n",
    "    \n",
    "    if index < len(data.index) - 1:\n",
    "        question_query += \",\"\n",
    "    \n",
    "question_query"
   ]
  },
  {
   "cell_type": "code",
   "execution_count": 73,
   "metadata": {
    "collapsed": false
   },
   "outputs": [
    {
     "data": {
      "text/plain": [
       "\"INSERT INTO dbsurveys.question (id, offered_answer_text) values(null, 'Male'),(null, 'Female'),(null, 'Other'),(null, 'Decline to state')(null, 'Not at all'),(null, 'At least a few times a month'),(null, 'At least once a week'),(null, 'More than twice a week')(null, 'None'),(null, 'Beginner (Example: I can use the internet, I can use my e-mail, I can use programs such as Microsoft Word or Microsoft PowerPoint)'),(null, 'Intermediate (Example: I can use the internet, e-mail, and Microsoft Office. In addition, I have the ability to create graphics and make spreadsheets.)'),(null, 'Advanced (Example: I am proficient in programming and scripting)')\""
      ]
     },
     "execution_count": 73,
     "metadata": {},
     "output_type": "execute_result"
    }
   ],
   "source": [
    "offered_answer_query"
   ]
  },
  {
   "cell_type": "code",
   "execution_count": 76,
   "metadata": {
    "collapsed": false
   },
   "outputs": [
    {
     "data": {
      "text/plain": [
       "[nan,\n",
       " 'Male|Female|Other|Decline to state',\n",
       " 'Not at all|At least a few times a month|At least once a week|More than twice a week',\n",
       " 'None|Beginner (Example: I can use the internet, I can use my e-mail, I can use programs such as Microsoft Word or Microsoft PowerPoint)|Intermediate (Example: I can use the internet, e-mail, and Microsoft Office. In addition, I have the ability to create graphics and make spreadsheets.)|Advanced (Example: I am proficient in programming and scripting)',\n",
       " nan,\n",
       " nan,\n",
       " nan,\n",
       " nan]"
      ]
     },
     "execution_count": 76,
     "metadata": {},
     "output_type": "execute_result"
    }
   ],
   "source": [
    "answers"
   ]
  },
  {
   "cell_type": "code",
   "execution_count": null,
   "metadata": {
    "collapsed": true
   },
   "outputs": [],
   "source": []
  }
 ],
 "metadata": {
  "anaconda-cloud": {},
  "kernelspec": {
   "display_name": "Python [default]",
   "language": "python",
   "name": "python2"
  },
  "language_info": {
   "codemirror_mode": {
    "name": "ipython",
    "version": 2
   },
   "file_extension": ".py",
   "mimetype": "text/x-python",
   "name": "python",
   "nbconvert_exporter": "python",
   "pygments_lexer": "ipython2",
   "version": "2.7.12"
  }
 },
 "nbformat": 4,
 "nbformat_minor": 0
}
